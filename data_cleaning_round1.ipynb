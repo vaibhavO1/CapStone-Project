{
  "nbformat": 4,
  "nbformat_minor": 0,
  "metadata": {
    "colab": {
      "provenance": [],
      "authorship_tag": "ABX9TyOc5mUdzfmWVlYjjC2oIA0T"
    },
    "kernelspec": {
      "name": "python3",
      "display_name": "Python 3"
    },
    "language_info": {
      "name": "python"
    }
  },
  "cells": [
    {
      "cell_type": "code",
      "source": [
        "from google.colab import drive\n",
        "drive.mount('/content/drive')"
      ],
      "metadata": {
        "colab": {
          "base_uri": "https://localhost:8080/"
        },
        "id": "cAq1rnuTBtAS",
        "outputId": "5a4b1b4f-bd52-4432-eb70-1acae17494c5"
      },
      "execution_count": 1,
      "outputs": [
        {
          "output_type": "stream",
          "name": "stdout",
          "text": [
            "Mounted at /content/drive\n"
          ]
        }
      ]
    },
    {
      "cell_type": "code",
      "source": [
        "import numpy as np\n",
        "import pandas as pd\n",
        "import re"
      ],
      "metadata": {
        "id": "b2e0cSLzDVSl"
      },
      "execution_count": 71,
      "outputs": []
    },
    {
      "cell_type": "code",
      "source": [
        "l1"
      ],
      "metadata": {
        "colab": {
          "base_uri": "https://localhost:8080/"
        },
        "id": "U2i6MnvhOd_0",
        "outputId": "6990c334-7515-4e27-9b57-73e2a3660ccf"
      },
      "execution_count": 40,
      "outputs": [
        {
          "output_type": "execute_result",
          "data": {
            "text/plain": [
              "['TRANSACT_TYPE',\n",
              " 'FURNISH',\n",
              " 'FACING',\n",
              " 'PRICE_SQFT',\n",
              " 'FLOOR_NUM',\n",
              " 'DESCRIPTION',\n",
              " 'AREA',\n",
              " 'AGE',\n",
              " 'OWNTYPE',\n",
              " 'SOCIETY_NAME',\n",
              " 'BEDROOM_NUM',\n",
              " 'PRICE',\n",
              " 'TOTAL_FLOOR',\n",
              " 'PREFERENCE',\n",
              " 'location',\n",
              " 'PROP_NAME',\n",
              " 'BALCONY_NUM',\n",
              " 'PROP_HEADING',\n",
              " 'MAP_DETAILS',\n",
              " 'BUILDING_NAME',\n",
              " 'PROP_ID',\n",
              " 'TOTAL_LANDMARK_COUNT',\n",
              " 'CITY',\n",
              " 'PROPERTY_TYPE',\n",
              " 'AMENITIES',\n",
              " 'FEATURES',\n",
              " 'FORMATTED_LANDMARK_DETAILS']"
            ]
          },
          "metadata": {},
          "execution_count": 40
        }
      ]
    },
    {
      "cell_type": "code",
      "source": [
        "gurgaon = pd.read_csv('/content/drive/MyDrive/pro/gurgaon_10k.csv',usecols=l1)\n",
        "mumbai = pd.read_csv('/content/drive/MyDrive/pro/mumbai.csv',usecols=l1)\n",
        "kolkata = pd.read_csv('/content/drive/MyDrive/pro/kolkata.csv',usecols=l1)\n",
        "hyderabad = pd.read_csv('/content/drive/MyDrive/pro/hyderabad.csv',usecols=l1)"
      ],
      "metadata": {
        "id": "tA383b5LDafM"
      },
      "execution_count": 41,
      "outputs": []
    },
    {
      "cell_type": "code",
      "source": [
        "s1 = set(gurgaon.columns)\n",
        "s2 = set(mumbai.columns)\n",
        "s3 = set(kolkata.columns)\n",
        "s4 = set(hyderabad.columns)"
      ],
      "metadata": {
        "id": "UylvqDtaEJej"
      },
      "execution_count": 11,
      "outputs": []
    },
    {
      "cell_type": "code",
      "source": [
        "gurgaon[['location']].sample(10)"
      ],
      "metadata": {
        "colab": {
          "base_uri": "https://localhost:8080/",
          "height": 363
        },
        "id": "nEQBBUw4I5zA",
        "outputId": "26836f7e-911c-41e3-ff39-83e578dfeec2"
      },
      "execution_count": 39,
      "outputs": [
        {
          "output_type": "execute_result",
          "data": {
            "text/plain": [
              "                                                location\n",
              "870    {'CITY': '8', 'CITY_NAME': 'Gurgaon', 'BUILDIN...\n",
              "7247   {'CITY': '8', 'CITY_NAME': 'Gurgaon', 'BUILDIN...\n",
              "10173  {'CITY': '8', 'CITY_NAME': 'Gurgaon', 'BUILDIN...\n",
              "5631   {'CITY': '8', 'CITY_NAME': 'Gurgaon', 'BUILDIN...\n",
              "1797   {'CITY': '8', 'CITY_NAME': 'Gurgaon', 'BUILDIN...\n",
              "4821   {'CITY': '8', 'CITY_NAME': 'Gurgaon', 'BUILDIN...\n",
              "5207   {'CITY': '8', 'CITY_NAME': 'Gurgaon', 'BUILDIN...\n",
              "4338   {'CITY': '8', 'CITY_NAME': 'Gurgaon', 'BUILDIN...\n",
              "3602   {'CITY': '8', 'CITY_NAME': 'Gurgaon', 'BUILDIN...\n",
              "6888   {'CITY': '8', 'CITY_NAME': 'Gurgaon', 'BUILDIN..."
            ],
            "text/html": [
              "\n",
              "  <div id=\"df-10e0dcb0-ea14-498b-8bef-bd5fe28c59dd\" class=\"colab-df-container\">\n",
              "    <div>\n",
              "<style scoped>\n",
              "    .dataframe tbody tr th:only-of-type {\n",
              "        vertical-align: middle;\n",
              "    }\n",
              "\n",
              "    .dataframe tbody tr th {\n",
              "        vertical-align: top;\n",
              "    }\n",
              "\n",
              "    .dataframe thead th {\n",
              "        text-align: right;\n",
              "    }\n",
              "</style>\n",
              "<table border=\"1\" class=\"dataframe\">\n",
              "  <thead>\n",
              "    <tr style=\"text-align: right;\">\n",
              "      <th></th>\n",
              "      <th>location</th>\n",
              "    </tr>\n",
              "  </thead>\n",
              "  <tbody>\n",
              "    <tr>\n",
              "      <th>870</th>\n",
              "      <td>{'CITY': '8', 'CITY_NAME': 'Gurgaon', 'BUILDIN...</td>\n",
              "    </tr>\n",
              "    <tr>\n",
              "      <th>7247</th>\n",
              "      <td>{'CITY': '8', 'CITY_NAME': 'Gurgaon', 'BUILDIN...</td>\n",
              "    </tr>\n",
              "    <tr>\n",
              "      <th>10173</th>\n",
              "      <td>{'CITY': '8', 'CITY_NAME': 'Gurgaon', 'BUILDIN...</td>\n",
              "    </tr>\n",
              "    <tr>\n",
              "      <th>5631</th>\n",
              "      <td>{'CITY': '8', 'CITY_NAME': 'Gurgaon', 'BUILDIN...</td>\n",
              "    </tr>\n",
              "    <tr>\n",
              "      <th>1797</th>\n",
              "      <td>{'CITY': '8', 'CITY_NAME': 'Gurgaon', 'BUILDIN...</td>\n",
              "    </tr>\n",
              "    <tr>\n",
              "      <th>4821</th>\n",
              "      <td>{'CITY': '8', 'CITY_NAME': 'Gurgaon', 'BUILDIN...</td>\n",
              "    </tr>\n",
              "    <tr>\n",
              "      <th>5207</th>\n",
              "      <td>{'CITY': '8', 'CITY_NAME': 'Gurgaon', 'BUILDIN...</td>\n",
              "    </tr>\n",
              "    <tr>\n",
              "      <th>4338</th>\n",
              "      <td>{'CITY': '8', 'CITY_NAME': 'Gurgaon', 'BUILDIN...</td>\n",
              "    </tr>\n",
              "    <tr>\n",
              "      <th>3602</th>\n",
              "      <td>{'CITY': '8', 'CITY_NAME': 'Gurgaon', 'BUILDIN...</td>\n",
              "    </tr>\n",
              "    <tr>\n",
              "      <th>6888</th>\n",
              "      <td>{'CITY': '8', 'CITY_NAME': 'Gurgaon', 'BUILDIN...</td>\n",
              "    </tr>\n",
              "  </tbody>\n",
              "</table>\n",
              "</div>\n",
              "    <div class=\"colab-df-buttons\">\n",
              "\n",
              "  <div class=\"colab-df-container\">\n",
              "    <button class=\"colab-df-convert\" onclick=\"convertToInteractive('df-10e0dcb0-ea14-498b-8bef-bd5fe28c59dd')\"\n",
              "            title=\"Convert this dataframe to an interactive table.\"\n",
              "            style=\"display:none;\">\n",
              "\n",
              "  <svg xmlns=\"http://www.w3.org/2000/svg\" height=\"24px\" viewBox=\"0 -960 960 960\">\n",
              "    <path d=\"M120-120v-720h720v720H120Zm60-500h600v-160H180v160Zm220 220h160v-160H400v160Zm0 220h160v-160H400v160ZM180-400h160v-160H180v160Zm440 0h160v-160H620v160ZM180-180h160v-160H180v160Zm440 0h160v-160H620v160Z\"/>\n",
              "  </svg>\n",
              "    </button>\n",
              "\n",
              "  <style>\n",
              "    .colab-df-container {\n",
              "      display:flex;\n",
              "      gap: 12px;\n",
              "    }\n",
              "\n",
              "    .colab-df-convert {\n",
              "      background-color: #E8F0FE;\n",
              "      border: none;\n",
              "      border-radius: 50%;\n",
              "      cursor: pointer;\n",
              "      display: none;\n",
              "      fill: #1967D2;\n",
              "      height: 32px;\n",
              "      padding: 0 0 0 0;\n",
              "      width: 32px;\n",
              "    }\n",
              "\n",
              "    .colab-df-convert:hover {\n",
              "      background-color: #E2EBFA;\n",
              "      box-shadow: 0px 1px 2px rgba(60, 64, 67, 0.3), 0px 1px 3px 1px rgba(60, 64, 67, 0.15);\n",
              "      fill: #174EA6;\n",
              "    }\n",
              "\n",
              "    .colab-df-buttons div {\n",
              "      margin-bottom: 4px;\n",
              "    }\n",
              "\n",
              "    [theme=dark] .colab-df-convert {\n",
              "      background-color: #3B4455;\n",
              "      fill: #D2E3FC;\n",
              "    }\n",
              "\n",
              "    [theme=dark] .colab-df-convert:hover {\n",
              "      background-color: #434B5C;\n",
              "      box-shadow: 0px 1px 3px 1px rgba(0, 0, 0, 0.15);\n",
              "      filter: drop-shadow(0px 1px 2px rgba(0, 0, 0, 0.3));\n",
              "      fill: #FFFFFF;\n",
              "    }\n",
              "  </style>\n",
              "\n",
              "    <script>\n",
              "      const buttonEl =\n",
              "        document.querySelector('#df-10e0dcb0-ea14-498b-8bef-bd5fe28c59dd button.colab-df-convert');\n",
              "      buttonEl.style.display =\n",
              "        google.colab.kernel.accessAllowed ? 'block' : 'none';\n",
              "\n",
              "      async function convertToInteractive(key) {\n",
              "        const element = document.querySelector('#df-10e0dcb0-ea14-498b-8bef-bd5fe28c59dd');\n",
              "        const dataTable =\n",
              "          await google.colab.kernel.invokeFunction('convertToInteractive',\n",
              "                                                    [key], {});\n",
              "        if (!dataTable) return;\n",
              "\n",
              "        const docLinkHtml = 'Like what you see? Visit the ' +\n",
              "          '<a target=\"_blank\" href=https://colab.research.google.com/notebooks/data_table.ipynb>data table notebook</a>'\n",
              "          + ' to learn more about interactive tables.';\n",
              "        element.innerHTML = '';\n",
              "        dataTable['output_type'] = 'display_data';\n",
              "        await google.colab.output.renderOutput(dataTable, element);\n",
              "        const docLink = document.createElement('div');\n",
              "        docLink.innerHTML = docLinkHtml;\n",
              "        element.appendChild(docLink);\n",
              "      }\n",
              "    </script>\n",
              "  </div>\n",
              "\n",
              "\n",
              "<div id=\"df-b8da4a40-94d4-446f-8212-1e35f271187e\">\n",
              "  <button class=\"colab-df-quickchart\" onclick=\"quickchart('df-b8da4a40-94d4-446f-8212-1e35f271187e')\"\n",
              "            title=\"Suggest charts\"\n",
              "            style=\"display:none;\">\n",
              "\n",
              "<svg xmlns=\"http://www.w3.org/2000/svg\" height=\"24px\"viewBox=\"0 0 24 24\"\n",
              "     width=\"24px\">\n",
              "    <g>\n",
              "        <path d=\"M19 3H5c-1.1 0-2 .9-2 2v14c0 1.1.9 2 2 2h14c1.1 0 2-.9 2-2V5c0-1.1-.9-2-2-2zM9 17H7v-7h2v7zm4 0h-2V7h2v10zm4 0h-2v-4h2v4z\"/>\n",
              "    </g>\n",
              "</svg>\n",
              "  </button>\n",
              "\n",
              "<style>\n",
              "  .colab-df-quickchart {\n",
              "      --bg-color: #E8F0FE;\n",
              "      --fill-color: #1967D2;\n",
              "      --hover-bg-color: #E2EBFA;\n",
              "      --hover-fill-color: #174EA6;\n",
              "      --disabled-fill-color: #AAA;\n",
              "      --disabled-bg-color: #DDD;\n",
              "  }\n",
              "\n",
              "  [theme=dark] .colab-df-quickchart {\n",
              "      --bg-color: #3B4455;\n",
              "      --fill-color: #D2E3FC;\n",
              "      --hover-bg-color: #434B5C;\n",
              "      --hover-fill-color: #FFFFFF;\n",
              "      --disabled-bg-color: #3B4455;\n",
              "      --disabled-fill-color: #666;\n",
              "  }\n",
              "\n",
              "  .colab-df-quickchart {\n",
              "    background-color: var(--bg-color);\n",
              "    border: none;\n",
              "    border-radius: 50%;\n",
              "    cursor: pointer;\n",
              "    display: none;\n",
              "    fill: var(--fill-color);\n",
              "    height: 32px;\n",
              "    padding: 0;\n",
              "    width: 32px;\n",
              "  }\n",
              "\n",
              "  .colab-df-quickchart:hover {\n",
              "    background-color: var(--hover-bg-color);\n",
              "    box-shadow: 0 1px 2px rgba(60, 64, 67, 0.3), 0 1px 3px 1px rgba(60, 64, 67, 0.15);\n",
              "    fill: var(--button-hover-fill-color);\n",
              "  }\n",
              "\n",
              "  .colab-df-quickchart-complete:disabled,\n",
              "  .colab-df-quickchart-complete:disabled:hover {\n",
              "    background-color: var(--disabled-bg-color);\n",
              "    fill: var(--disabled-fill-color);\n",
              "    box-shadow: none;\n",
              "  }\n",
              "\n",
              "  .colab-df-spinner {\n",
              "    border: 2px solid var(--fill-color);\n",
              "    border-color: transparent;\n",
              "    border-bottom-color: var(--fill-color);\n",
              "    animation:\n",
              "      spin 1s steps(1) infinite;\n",
              "  }\n",
              "\n",
              "  @keyframes spin {\n",
              "    0% {\n",
              "      border-color: transparent;\n",
              "      border-bottom-color: var(--fill-color);\n",
              "      border-left-color: var(--fill-color);\n",
              "    }\n",
              "    20% {\n",
              "      border-color: transparent;\n",
              "      border-left-color: var(--fill-color);\n",
              "      border-top-color: var(--fill-color);\n",
              "    }\n",
              "    30% {\n",
              "      border-color: transparent;\n",
              "      border-left-color: var(--fill-color);\n",
              "      border-top-color: var(--fill-color);\n",
              "      border-right-color: var(--fill-color);\n",
              "    }\n",
              "    40% {\n",
              "      border-color: transparent;\n",
              "      border-right-color: var(--fill-color);\n",
              "      border-top-color: var(--fill-color);\n",
              "    }\n",
              "    60% {\n",
              "      border-color: transparent;\n",
              "      border-right-color: var(--fill-color);\n",
              "    }\n",
              "    80% {\n",
              "      border-color: transparent;\n",
              "      border-right-color: var(--fill-color);\n",
              "      border-bottom-color: var(--fill-color);\n",
              "    }\n",
              "    90% {\n",
              "      border-color: transparent;\n",
              "      border-bottom-color: var(--fill-color);\n",
              "    }\n",
              "  }\n",
              "</style>\n",
              "\n",
              "  <script>\n",
              "    async function quickchart(key) {\n",
              "      const quickchartButtonEl =\n",
              "        document.querySelector('#' + key + ' button');\n",
              "      quickchartButtonEl.disabled = true;  // To prevent multiple clicks.\n",
              "      quickchartButtonEl.classList.add('colab-df-spinner');\n",
              "      try {\n",
              "        const charts = await google.colab.kernel.invokeFunction(\n",
              "            'suggestCharts', [key], {});\n",
              "      } catch (error) {\n",
              "        console.error('Error during call to suggestCharts:', error);\n",
              "      }\n",
              "      quickchartButtonEl.classList.remove('colab-df-spinner');\n",
              "      quickchartButtonEl.classList.add('colab-df-quickchart-complete');\n",
              "    }\n",
              "    (() => {\n",
              "      let quickchartButtonEl =\n",
              "        document.querySelector('#df-b8da4a40-94d4-446f-8212-1e35f271187e button');\n",
              "      quickchartButtonEl.style.display =\n",
              "        google.colab.kernel.accessAllowed ? 'block' : 'none';\n",
              "    })();\n",
              "  </script>\n",
              "</div>\n",
              "\n",
              "    </div>\n",
              "  </div>\n"
            ],
            "application/vnd.google.colaboratory.intrinsic+json": {
              "type": "dataframe",
              "summary": "{\n  \"name\": \"gurgaon[['location']]\",\n  \"rows\": 10,\n  \"fields\": [\n    {\n      \"column\": \"location\",\n      \"properties\": {\n        \"dtype\": \"string\",\n        \"num_unique_values\": 10,\n        \"samples\": [\n          \"{'CITY': '8', 'CITY_NAME': 'Gurgaon', 'BUILDING_ID': '11892', 'BUILDING_NAME': 'Bestech Park View Ananda', 'SOCIETY_NAME': 'Bestech Park View Ananda', 'LOCALITY_ID': '7870', 'LOCALITY_NAME': 'Sector 81 Gurgaon', 'ADDRESS': 'Tower E'}\",\n          \"{'CITY': '8', 'CITY_NAME': 'Gurgaon', 'BUILDING_ID': '0', 'BUILDING_NAME': '', 'SOCIETY_NAME': '', 'LOCALITY_ID': '360', 'LOCALITY_NAME': 'DLF Phase 1', 'ADDRESS': 'D Block'}\",\n          \"{'CITY': '8', 'CITY_NAME': 'Gurgaon', 'BUILDING_ID': '0', 'BUILDING_NAME': '', 'SOCIETY_NAME': '', 'LOCALITY_ID': '21299', 'LOCALITY_NAME': 'Samaspur'}\"\n        ],\n        \"semantic_type\": \"\",\n        \"description\": \"\"\n      }\n    }\n  ]\n}"
            }
          },
          "metadata": {},
          "execution_count": 39
        }
      ]
    },
    {
      "cell_type": "code",
      "source": [
        "gurgaon.columns"
      ],
      "metadata": {
        "colab": {
          "base_uri": "https://localhost:8080/"
        },
        "id": "YkITOp0LKW-l",
        "outputId": "63bbbd49-2874-41af-942c-7bf0fb7324f2"
      },
      "execution_count": 22,
      "outputs": [
        {
          "output_type": "execute_result",
          "data": {
            "text/plain": [
              "Index(['PROP_ID', 'PHOTO_URL', 'MEDIUM_PHOTO_URL', 'PREFERENCE', 'DESCRIPTION',\n",
              "       'PROPERTY_TYPE', 'CITY', 'LOCALITY', 'TRANSACT_TYPE', 'OWNTYPE',\n",
              "       'BEDROOM_NUM', 'BATHROOM_NUM', 'BALCONY_NUM', 'PRICE_PER_UNIT_AREA',\n",
              "       'FURNISH', 'FACING', 'AGE', 'FLOOR_NUM', 'TOTAL_FLOOR', 'FEATURES',\n",
              "       'REGISTER_DATE', 'PROP_NAME', 'MIN_PRICE', 'MAX_PRICE', 'PRICE_SQFT',\n",
              "       'LISTING', 'BUILDING_ID', 'CARPET_SQFT', 'SUPERBUILTUP_SQFT',\n",
              "       'BROKERAGE', 'MAP_DETAILS', 'FSL_Data', 'MIN_AREA_SQFT',\n",
              "       'MAX_AREA_SQFT', 'FORMATTED', 'AMENITIES', 'TOP_USPS', 'PD_URL',\n",
              "       'EXPIRY_DATE', 'GROUP_NAME', 'AREA', 'PRICE', 'PROP_HEADING',\n",
              "       'PROP_DETAILS_URL', 'CLASS_HEADING', 'CLASS_LABEL', 'SECONDARY_TAGS',\n",
              "       'PROPERTY_IMAGES', 'THUMBNAIL_IMAGES', 'TOTAL_LANDMARK_COUNT',\n",
              "       'FORMATTED_LANDMARK_DETAILS', 'CONTACT_NAME', 'CONTACT_COMPANY_NAME',\n",
              "       'DEALER_PHOTO_URL', 'SOCIETY_NAME', 'BUILDING_NAME', 'CITY_ID',\n",
              "       'LOCALITY_WO_CITY', 'profile', 'xid', 'metadata', 'location',\n",
              "       'BUILTUP_SQFT', 'SUPER_SQFT', 'COMMON_FURNISHING_ATTRIBUTES',\n",
              "       'QUALITY_SCORE', 'FURNISHING_ATTRIBUTES'],\n",
              "      dtype='object')"
            ]
          },
          "metadata": {},
          "execution_count": 22
        }
      ]
    },
    {
      "cell_type": "code",
      "source": [
        "l1 = list(s1 & s2 & s3 & s4)\n",
        "l1.remove('SECONDARY_TAGS')\n",
        "l1.remove('PRICE_PER_UNIT_AREA')\n",
        "l1"
      ],
      "metadata": {
        "colab": {
          "base_uri": "https://localhost:8080/"
        },
        "id": "i5dYa0YaFZ_z",
        "outputId": "363e8896-ba59-4bde-f71e-d9505a44ea17"
      },
      "execution_count": 36,
      "outputs": [
        {
          "output_type": "execute_result",
          "data": {
            "text/plain": [
              "['TRANSACT_TYPE',\n",
              " 'FURNISH',\n",
              " 'FACING',\n",
              " 'PRICE_SQFT',\n",
              " 'FLOOR_NUM',\n",
              " 'DESCRIPTION',\n",
              " 'AREA',\n",
              " 'AGE',\n",
              " 'OWNTYPE',\n",
              " 'SOCIETY_NAME',\n",
              " 'BEDROOM_NUM',\n",
              " 'PRICE',\n",
              " 'TOTAL_FLOOR',\n",
              " 'PREFERENCE',\n",
              " 'location',\n",
              " 'PROP_NAME',\n",
              " 'BALCONY_NUM',\n",
              " 'PROP_HEADING',\n",
              " 'MAP_DETAILS',\n",
              " 'BUILDING_NAME',\n",
              " 'PROP_ID',\n",
              " 'TOTAL_LANDMARK_COUNT',\n",
              " 'CITY',\n",
              " 'PROPERTY_TYPE',\n",
              " 'AMENITIES',\n",
              " 'FEATURES',\n",
              " 'FORMATTED_LANDMARK_DETAILS']"
            ]
          },
          "metadata": {},
          "execution_count": 36
        }
      ]
    },
    {
      "cell_type": "code",
      "source": [
        "s2"
      ],
      "metadata": {
        "colab": {
          "base_uri": "https://localhost:8080/"
        },
        "id": "YBImoa7XEU08",
        "outputId": "56a827fe-d8af-4a5b-a2d9-5b3e4d7ea7f8"
      },
      "execution_count": 13,
      "outputs": [
        {
          "output_type": "execute_result",
          "data": {
            "text/plain": [
              "{'AGE',\n",
              " 'ALT_TAG',\n",
              " 'AMENITIES',\n",
              " 'AREA',\n",
              " 'BALCONY_NUM',\n",
              " 'BEDROOM_NUM',\n",
              " 'BUILDING_ID',\n",
              " 'BUILDING_NAME',\n",
              " 'CITY',\n",
              " 'CLASS',\n",
              " 'CLASS_HEADING',\n",
              " 'CLASS_LABEL',\n",
              " 'DESCRIPTION',\n",
              " 'EXPIRY_DATE',\n",
              " 'FACING',\n",
              " 'FEATURES',\n",
              " 'FLOOR_NUM',\n",
              " 'FORMATTED_LANDMARK_DETAILS',\n",
              " 'FURNISH',\n",
              " 'MAP_DETAILS',\n",
              " 'MAX_AREA_SQFT',\n",
              " 'MAX_PRICE',\n",
              " 'MIN_AREA_SQFT',\n",
              " 'MIN_PRICE',\n",
              " 'OWNTYPE',\n",
              " 'POSTING_DATE',\n",
              " 'PREFERENCE',\n",
              " 'PRICE',\n",
              " 'PRICE_PER_UNIT_AREA',\n",
              " 'PRICE_SQFT',\n",
              " 'PRIMARY_TAGS',\n",
              " 'PRODUCT_TYPE',\n",
              " 'PROJ_ID',\n",
              " 'PROPERTY_NUMBER',\n",
              " 'PROPERTY_TYPE',\n",
              " 'PROPERTY_TYPE__U',\n",
              " 'PROP_HEADING',\n",
              " 'PROP_ID',\n",
              " 'PROP_NAME',\n",
              " 'REGISTERED_DAYS',\n",
              " 'REGISTER_DATE',\n",
              " 'REGISTER_DATE__U',\n",
              " 'RES_COM',\n",
              " 'SECONDARY_AREA',\n",
              " 'SECONDARY_TAGS',\n",
              " 'SOCIETY_NAME',\n",
              " 'SPID',\n",
              " 'TOP_USPS',\n",
              " 'TOTAL_FLOOR',\n",
              " 'TOTAL_LANDMARK_COUNT',\n",
              " 'TRANSACT_TYPE',\n",
              " 'UPDATE_DATE',\n",
              " 'VALUE_LABEL',\n",
              " 'VERIFIED',\n",
              " 'location'}"
            ]
          },
          "metadata": {},
          "execution_count": 13
        }
      ]
    },
    {
      "cell_type": "code",
      "source": [
        "s3"
      ],
      "metadata": {
        "colab": {
          "base_uri": "https://localhost:8080/"
        },
        "id": "96ejYl4LEcCT",
        "outputId": "02f03b3d-8782-447a-b9c2-92b21c3d3182"
      },
      "execution_count": 24,
      "outputs": [
        {
          "output_type": "execute_result",
          "data": {
            "text/plain": [
              "{'AGE',\n",
              " 'AMENITIES',\n",
              " 'AREA',\n",
              " 'BALCONY_NUM',\n",
              " 'BEDROOM_NUM',\n",
              " 'BUILDING_NAME',\n",
              " 'BUILTUP_SQFT',\n",
              " 'CARPET_SQFT',\n",
              " 'CITY',\n",
              " 'DESCRIPTION',\n",
              " 'FACING',\n",
              " 'FEATURES',\n",
              " 'FLOOR_NUM',\n",
              " 'FORMATTED_LANDMARK_DETAILS',\n",
              " 'FURNISH',\n",
              " 'MAP_DETAILS',\n",
              " 'OWNTYPE',\n",
              " 'PREFERENCE',\n",
              " 'PRICE',\n",
              " 'PRICE_PER_UNIT_AREA',\n",
              " 'PRICE_SQFT',\n",
              " 'PROPERTY_TYPE',\n",
              " 'PROP_HEADING',\n",
              " 'PROP_ID',\n",
              " 'PROP_NAME',\n",
              " 'SECONDARY_TAGS',\n",
              " 'SOCIETY_NAME',\n",
              " 'SUPERAREA_UNIT',\n",
              " 'SUPERBUILTUP_SQFT',\n",
              " 'SUPER_AREA',\n",
              " 'SUPER_SQFT',\n",
              " 'TOTAL_FLOOR',\n",
              " 'TOTAL_LANDMARK_COUNT',\n",
              " 'TRANSACT_TYPE',\n",
              " 'location'}"
            ]
          },
          "metadata": {},
          "execution_count": 24
        }
      ]
    },
    {
      "cell_type": "code",
      "source": [
        "s4"
      ],
      "metadata": {
        "colab": {
          "base_uri": "https://localhost:8080/"
        },
        "id": "RP0cAM6mEec0",
        "outputId": "12e9a5fd-a701-4ae7-9825-3198941ec08b"
      },
      "execution_count": 25,
      "outputs": [
        {
          "output_type": "execute_result",
          "data": {
            "text/plain": [
              "{'AGE',\n",
              " 'ALT_TAG',\n",
              " 'AMENITIES',\n",
              " 'AREA',\n",
              " 'BALCONY_NUM',\n",
              " 'BEDROOM_NUM',\n",
              " 'BUILDING_ID',\n",
              " 'BUILDING_NAME',\n",
              " 'CITY',\n",
              " 'CLASS',\n",
              " 'CLASS_HEADING',\n",
              " 'CLASS_LABEL',\n",
              " 'DESCRIPTION',\n",
              " 'EXPIRY_DATE',\n",
              " 'FACING',\n",
              " 'FEATURES',\n",
              " 'FLOOR_NUM',\n",
              " 'FORMATTED_LANDMARK_DETAILS',\n",
              " 'FURNISH',\n",
              " 'MAP_DETAILS',\n",
              " 'MAX_AREA_SQFT',\n",
              " 'MAX_PRICE',\n",
              " 'MIN_AREA_SQFT',\n",
              " 'MIN_PRICE',\n",
              " 'OWNTYPE',\n",
              " 'POSTING_DATE',\n",
              " 'PREFERENCE',\n",
              " 'PRICE',\n",
              " 'PRICE_PER_UNIT_AREA',\n",
              " 'PRICE_SQFT',\n",
              " 'PRIMARY_TAGS',\n",
              " 'PRODUCT_TYPE',\n",
              " 'PROJ_ID',\n",
              " 'PROPERTY_NUMBER',\n",
              " 'PROPERTY_TYPE',\n",
              " 'PROPERTY_TYPE__U',\n",
              " 'PROP_HEADING',\n",
              " 'PROP_ID',\n",
              " 'PROP_NAME',\n",
              " 'REGISTERED_DAYS',\n",
              " 'REGISTER_DATE',\n",
              " 'REGISTER_DATE__U',\n",
              " 'RES_COM',\n",
              " 'SECONDARY_AREA',\n",
              " 'SECONDARY_TAGS',\n",
              " 'SOCIETY_NAME',\n",
              " 'SPID',\n",
              " 'TOP_USPS',\n",
              " 'TOTAL_FLOOR',\n",
              " 'TOTAL_LANDMARK_COUNT',\n",
              " 'TRANSACT_TYPE',\n",
              " 'UPDATE_DATE',\n",
              " 'VALUE_LABEL',\n",
              " 'VERIFIED',\n",
              " 'location'}"
            ]
          },
          "metadata": {},
          "execution_count": 25
        }
      ]
    },
    {
      "cell_type": "code",
      "source": [
        "df = pd.concat([gurgaon,mumbai,kolkata,hyderabad],axis=0,ignore_index=True)"
      ],
      "metadata": {
        "id": "9Mi5UGfGOpfC"
      },
      "execution_count": 43,
      "outputs": []
    },
    {
      "cell_type": "code",
      "source": [
        "df.PROPERTY_TYPE.value_counts()"
      ],
      "metadata": {
        "colab": {
          "base_uri": "https://localhost:8080/"
        },
        "id": "9zwZsYVTPQ78",
        "outputId": "a9ba733c-1800-405c-c700-42b86fb3626a"
      },
      "execution_count": 47,
      "outputs": [
        {
          "output_type": "execute_result",
          "data": {
            "text/plain": [
              "PROPERTY_TYPE\n",
              "Residential Apartment        28550\n",
              "Residential Land              3529\n",
              "Independent/Builder Floor     3187\n",
              "Independent House/Villa       2951\n",
              "Studio Apartment               163\n",
              "Serviced Apartments             80\n",
              "Farm House                      40\n",
              "Other                            2\n",
              "Name: count, dtype: int64"
            ]
          },
          "metadata": {},
          "execution_count": 47
        }
      ]
    },
    {
      "cell_type": "code",
      "source": [
        "res_apart = df[df['PROPERTY_TYPE']=='Residential Apartment']\n",
        "res_apart.shape"
      ],
      "metadata": {
        "colab": {
          "base_uri": "https://localhost:8080/"
        },
        "id": "9JVoeGwSPser",
        "outputId": "370a62ea-db69-4be2-e73d-eeed2e9347a0"
      },
      "execution_count": 49,
      "outputs": [
        {
          "output_type": "execute_result",
          "data": {
            "text/plain": [
              "(28550, 27)"
            ]
          },
          "metadata": {},
          "execution_count": 49
        }
      ]
    },
    {
      "cell_type": "code",
      "source": [
        "pd.set_option('display.max_rows', None)\n",
        "pd.set_option('display.max_columns', None)"
      ],
      "metadata": {
        "id": "wC7L20o4Qpcb"
      },
      "execution_count": 51,
      "outputs": []
    },
    {
      "cell_type": "code",
      "source": [
        "res_apart.sample(10)\n",
        "res_apart.drop(['PROP_ID','PROPERTY_TYPE','SOCIETY_NAME','BUILDING_NAME'],inplace=True,axis=1)"
      ],
      "metadata": {
        "colab": {
          "base_uri": "https://localhost:8080/"
        },
        "id": "wUD2JCKdP4TY",
        "outputId": "095f5d03-c830-4b0b-ec6e-cda716faea27"
      },
      "execution_count": 55,
      "outputs": [
        {
          "output_type": "stream",
          "name": "stderr",
          "text": [
            "<ipython-input-55-b87f400ab172>:2: SettingWithCopyWarning: \n",
            "A value is trying to be set on a copy of a slice from a DataFrame\n",
            "\n",
            "See the caveats in the documentation: https://pandas.pydata.org/pandas-docs/stable/user_guide/indexing.html#returning-a-view-versus-a-copy\n",
            "  res_apart.drop(['PROP_ID','PROPERTY_TYPE','SOCIETY_NAME','BUILDING_NAME'],inplace=True,axis=1)\n"
          ]
        }
      ]
    },
    {
      "cell_type": "code",
      "source": [
        "# res_apart.reset_index(inplace=True,drop=True)"
      ],
      "metadata": {
        "id": "Jiz0tmXgR2Vn"
      },
      "execution_count": 63,
      "outputs": []
    },
    {
      "cell_type": "code",
      "source": [
        "res_apart['MAP_DETAILS'].head(10)"
      ],
      "metadata": {
        "colab": {
          "base_uri": "https://localhost:8080/"
        },
        "id": "1e_7IZKFSOrI",
        "outputId": "f9feed58-7a6b-4958-8780-381814a41183"
      },
      "execution_count": 74,
      "outputs": [
        {
          "output_type": "execute_result",
          "data": {
            "text/plain": [
              "0    {'LATITUDE': '28.4065341', 'LONGITUDE': '76.96...\n",
              "1    {'LATITUDE': '28.3889069', 'LONGITUDE': '76.95...\n",
              "2    {'LATITUDE': '28.401406', 'LONGITUDE': '77.050...\n",
              "3    {'LATITUDE': '28.518677', 'LONGITUDE': '77.015...\n",
              "4    {'LATITUDE': '28.47844', 'LONGITUDE': '76.9861...\n",
              "5    {'LATITUDE': '28.47844', 'LONGITUDE': '76.9861...\n",
              "6    {'LATITUDE': '28.47844', 'LONGITUDE': '76.9861...\n",
              "7    {'LATITUDE': '28.4164', 'LONGITUDE': '77.01262...\n",
              "8    {'LATITUDE': '28.39988', 'LONGITUDE': '77.0965...\n",
              "9    {'LATITUDE': '28.4164', 'LONGITUDE': '77.01262...\n",
              "Name: MAP_DETAILS, dtype: object"
            ]
          },
          "metadata": {},
          "execution_count": 74
        }
      ]
    },
    {
      "cell_type": "code",
      "source": [
        "res_apart['LATITUDE'] = res_apart['MAP_DETAILS'].apply(lambda x: x.split(',')[0]).apply(lambda x:re.search(r'(\\d+\\.\\d+)',x).group())\n",
        "res_apart['LONGITUDE'] = res_apart['MAP_DETAILS'].apply(lambda x: x.split(',')[1]).apply(lambda x:re.search(r'(\\d+\\.\\d+)',x).group())"
      ],
      "metadata": {
        "colab": {
          "base_uri": "https://localhost:8080/"
        },
        "id": "A1Sc4JfUTZ6I",
        "outputId": "e0964af7-10ff-424c-f716-8bb08d4e358b"
      },
      "execution_count": 78,
      "outputs": [
        {
          "output_type": "stream",
          "name": "stderr",
          "text": [
            "<ipython-input-78-620d00991d04>:1: SettingWithCopyWarning: \n",
            "A value is trying to be set on a copy of a slice from a DataFrame.\n",
            "Try using .loc[row_indexer,col_indexer] = value instead\n",
            "\n",
            "See the caveats in the documentation: https://pandas.pydata.org/pandas-docs/stable/user_guide/indexing.html#returning-a-view-versus-a-copy\n",
            "  res_apart['LATITUDE'] = res_apart['MAP_DETAILS'].apply(lambda x: x.split(',')[0]).apply(lambda x:re.search(r'(\\d+\\.\\d+)',x).group())\n",
            "<ipython-input-78-620d00991d04>:2: SettingWithCopyWarning: \n",
            "A value is trying to be set on a copy of a slice from a DataFrame.\n",
            "Try using .loc[row_indexer,col_indexer] = value instead\n",
            "\n",
            "See the caveats in the documentation: https://pandas.pydata.org/pandas-docs/stable/user_guide/indexing.html#returning-a-view-versus-a-copy\n",
            "  res_apart['LONGITUDE'] = res_apart['MAP_DETAILS'].apply(lambda x: x.split(',')[1]).apply(lambda x:re.search(r'(\\d+\\.\\d+)',x).group())\n"
          ]
        }
      ]
    },
    {
      "cell_type": "code",
      "source": [
        "res_apart.drop(['MAP_DETAILS'],inplace=True,axis=1)"
      ],
      "metadata": {
        "colab": {
          "base_uri": "https://localhost:8080/"
        },
        "id": "JLlg4PZOVvf-",
        "outputId": "690c7ac8-0560-447a-b886-abba3f1e91cb"
      },
      "execution_count": 80,
      "outputs": [
        {
          "output_type": "stream",
          "name": "stderr",
          "text": [
            "<ipython-input-80-78adc57e868f>:1: SettingWithCopyWarning: \n",
            "A value is trying to be set on a copy of a slice from a DataFrame\n",
            "\n",
            "See the caveats in the documentation: https://pandas.pydata.org/pandas-docs/stable/user_guide/indexing.html#returning-a-view-versus-a-copy\n",
            "  res_apart.drop(['MAP_DETAILS'],inplace=True,axis=1)\n"
          ]
        }
      ]
    },
    {
      "cell_type": "code",
      "source": [
        "# ` pd.options.mode.copy_on_write = True `\n",
        "temp = res_apart[res_apart['AREA'].str.contains('-')]"
      ],
      "metadata": {
        "id": "IjjIlhZ4WdE3"
      },
      "execution_count": 95,
      "outputs": []
    },
    {
      "cell_type": "code",
      "source": [
        "res_apart['AREA'].replace('sq.ft.','',inplace=True,regex=True)"
      ],
      "metadata": {
        "colab": {
          "base_uri": "https://localhost:8080/"
        },
        "id": "jnfB22Q9XpI9",
        "outputId": "2faf57a4-b4d4-46b6-fc54-32f13f3d938e"
      },
      "execution_count": 89,
      "outputs": [
        {
          "output_type": "stream",
          "name": "stderr",
          "text": [
            "<ipython-input-89-66b20b1d259e>:1: SettingWithCopyWarning: \n",
            "A value is trying to be set on a copy of a slice from a DataFrame\n",
            "\n",
            "See the caveats in the documentation: https://pandas.pydata.org/pandas-docs/stable/user_guide/indexing.html#returning-a-view-versus-a-copy\n",
            "  res_apart['AREA'].replace('sq.ft.','',inplace=True,regex=True)\n"
          ]
        }
      ]
    },
    {
      "cell_type": "code",
      "source": [
        "def replace_with_avg(range_str):\n",
        "    pattern = r\"(\\d+)-(\\d+)\"\n",
        "\n",
        "    match = re.search(pattern, range_str)\n",
        "\n",
        "    if match:\n",
        "        # Extract the two numbers\n",
        "        num1 = int(match.group(1))\n",
        "        num2 = int(match.group(2))\n",
        "\n",
        "        # Calculate the average\n",
        "        avg = (num1 + num2) // 2\n",
        "\n",
        "        # Return the average as a string\n",
        "        return str(avg)\n",
        "    else:\n",
        "        return range_str"
      ],
      "metadata": {
        "id": "YKXr2IUOdMKr"
      },
      "execution_count": 103,
      "outputs": []
    },
    {
      "cell_type": "code",
      "source": [
        "res_apart.loc[temp.index,'AREA'] = res_apart.loc[temp.index,'AREA'].apply(replace_with_avg)"
      ],
      "metadata": {
        "id": "dTy6yDHncoVx"
      },
      "execution_count": 105,
      "outputs": []
    },
    {
      "cell_type": "code",
      "source": [
        "# temp['AREA'].apply(lambda x: x.split('-')[0]) + temp['AREA'].apply(lambda x: x.split('-')[1])"
      ],
      "metadata": {
        "id": "IVuii_MHYKu9"
      },
      "execution_count": 106,
      "outputs": []
    },
    {
      "cell_type": "code",
      "source": [
        "# res_apart[res_apart['FLOOR_NUM'].str.contains('.0')]"
      ],
      "metadata": {
        "id": "IvpOlJ2seq2Y"
      },
      "execution_count": 139,
      "outputs": []
    },
    {
      "cell_type": "code",
      "source": [
        "res_apart.loc[g.index,'FLOOR_NUM'] = res_apart['FLOOR_NUM'].replace('B','-2')"
      ],
      "metadata": {
        "id": "f-phth4RfmCn"
      },
      "execution_count": 130,
      "outputs": []
    },
    {
      "cell_type": "code",
      "source": [
        "# res_apart['AREA'] = res_apart['AREA'].astype(int)\n",
        "res_apart['FLOOR_NUM'] = res_apart['FLOOR_NUM'].astype(float)"
      ],
      "metadata": {
        "colab": {
          "base_uri": "https://localhost:8080/"
        },
        "id": "gyUixOhWgnjH",
        "outputId": "92972f01-11d3-410b-e673-2b3e815d3e0d"
      },
      "execution_count": 138,
      "outputs": [
        {
          "output_type": "stream",
          "name": "stderr",
          "text": [
            "<ipython-input-138-b1c7c7c64eea>:2: SettingWithCopyWarning: \n",
            "A value is trying to be set on a copy of a slice from a DataFrame.\n",
            "Try using .loc[row_indexer,col_indexer] = value instead\n",
            "\n",
            "See the caveats in the documentation: https://pandas.pydata.org/pandas-docs/stable/user_guide/indexing.html#returning-a-view-versus-a-copy\n",
            "  res_apart['FLOOR_NUM'] = res_apart['FLOOR_NUM'].astype(float)\n"
          ]
        }
      ]
    },
    {
      "cell_type": "code",
      "source": [
        "res_apart.rename(columns={'AREA':'area_in_sqft'},inplace=True)"
      ],
      "metadata": {
        "colab": {
          "base_uri": "https://localhost:8080/"
        },
        "id": "duWxollmjN92",
        "outputId": "7c7136a4-b653-43af-a97a-8fb490cde336"
      },
      "execution_count": 147,
      "outputs": [
        {
          "output_type": "stream",
          "name": "stderr",
          "text": [
            "<ipython-input-147-6074b5aa1ed0>:1: SettingWithCopyWarning: \n",
            "A value is trying to be set on a copy of a slice from a DataFrame\n",
            "\n",
            "See the caveats in the documentation: https://pandas.pydata.org/pandas-docs/stable/user_guide/indexing.html#returning-a-view-versus-a-copy\n",
            "  res_apart.rename(columns={'AREA':'area_in_sqft'},inplace=True)\n"
          ]
        }
      ]
    },
    {
      "cell_type": "code",
      "source": [
        "res_apart['locality'] = res_apart['PROP_HEADING'].apply(lambda x: x.split('in')[1])"
      ],
      "metadata": {
        "colab": {
          "base_uri": "https://localhost:8080/"
        },
        "id": "rrYHPIHCd6Hg",
        "outputId": "6cc33df4-5c20-42e4-dc56-4b97a13a87ba"
      },
      "execution_count": 156,
      "outputs": [
        {
          "output_type": "stream",
          "name": "stderr",
          "text": [
            "<ipython-input-156-f408cafa7d88>:1: SettingWithCopyWarning: \n",
            "A value is trying to be set on a copy of a slice from a DataFrame.\n",
            "Try using .loc[row_indexer,col_indexer] = value instead\n",
            "\n",
            "See the caveats in the documentation: https://pandas.pydata.org/pandas-docs/stable/user_guide/indexing.html#returning-a-view-versus-a-copy\n",
            "  res_apart['locality'] = res_apart['PROP_HEADING'].apply(lambda x: x.split('in')[1])\n"
          ]
        }
      ]
    },
    {
      "cell_type": "code",
      "source": [
        "var = res_apart['FORMATTED_LANDMARK_DETAILS'].sample(1)\n",
        "str(var)"
      ],
      "metadata": {
        "colab": {
          "base_uri": "https://localhost:8080/",
          "height": 53
        },
        "id": "dFXyOtndqKLn",
        "outputId": "a654ea79-7a84-41ac-b701-996f57f38bfe"
      },
      "execution_count": 181,
      "outputs": [
        {
          "output_type": "execute_result",
          "data": {
            "text/plain": [
              "\"10505    [{'text': '1 Railway Station'}, {'text': '1 Metro Station'}, {'text': '2 Connectivities'}, {'text': '2 Educations'}, {'text': '1 Hospital'}, {'text': '1 Airport'}, {'text': '1 Hotels'}, {'text': '1 Beach'}]\\nName: FORMATTED_LANDMARK_DETAILS, dtype: object\""
            ],
            "application/vnd.google.colaboratory.intrinsic+json": {
              "type": "string"
            }
          },
          "metadata": {},
          "execution_count": 181
        }
      ]
    },
    {
      "cell_type": "code",
      "source": [
        "# json.loads(var.str)"
      ],
      "metadata": {
        "id": "FZMoPfMHqYuw"
      },
      "execution_count": 187,
      "outputs": []
    },
    {
      "cell_type": "code",
      "source": [
        "res_apart['landmark_details'] = res_apart['FORMATTED_LANDMARK_DETAILS'].apply(get_landmark_details)"
      ],
      "metadata": {
        "colab": {
          "base_uri": "https://localhost:8080/"
        },
        "id": "a2Q5uEJIpiGR",
        "outputId": "5f03a54e-6f91-4ed2-a1d3-1324fe272a9b"
      },
      "execution_count": 190,
      "outputs": [
        {
          "output_type": "stream",
          "name": "stderr",
          "text": [
            "<ipython-input-190-afd492e9eda9>:1: SettingWithCopyWarning: \n",
            "A value is trying to be set on a copy of a slice from a DataFrame.\n",
            "Try using .loc[row_indexer,col_indexer] = value instead\n",
            "\n",
            "See the caveats in the documentation: https://pandas.pydata.org/pandas-docs/stable/user_guide/indexing.html#returning-a-view-versus-a-copy\n",
            "  res_apart['landmark_details'] = res_apart['FORMATTED_LANDMARK_DETAILS'].apply(get_landmark_details)\n"
          ]
        }
      ]
    },
    {
      "cell_type": "code",
      "source": [
        "import json\n",
        "def get_landmark_details(data_str):\n",
        "  try:\n",
        "    data_str = data_str.replace(\"'\", '\"')\n",
        "    data = json.loads(data_str)\n",
        "    texts = [item['text'] for item in data]\n",
        "    return \", \".join(texts)\n",
        "  except:\n",
        "    return 0"
      ],
      "metadata": {
        "id": "ytSciK2Qn9cB"
      },
      "execution_count": 188,
      "outputs": []
    },
    {
      "cell_type": "code",
      "source": [
        "d = \"[{'category': 'ReligiousPlace', 'text': '1 Religious Place', 'className': 'rlgs', 'icon': 'https://static.99acres.com/universalapp/img/rlgs.png'}, {'category': 'ATM', 'text': '2 ATMs', 'className': 'atm', 'icon': 'https://static.99acres.com/universalapp/img/atm_blue.png'}, {'category': 'Hospital', 'text': '20 Hospitals', 'className': 'hsptl', 'icon': 'https://static.99acres.com/universalapp/img/hsptl.png'}, {'category': 'Attraction', 'text': '1 Attraction', 'className': 'cultrl', 'icon': 'https://static.99acres.com/universalapp/img/cultrl.png'}, {'category': 'Pharmacy', 'text': '3 Pharmacys', 'className': 'phmcy', 'icon': 'https://static.99acres.com/universalapp/img/phmcy.png'}, {'category': 'OfficeComplex', 'text': '2 Office Complexes', 'className': 'ofce', 'icon': 'https://static.99acres.com/universalapp/img/ofce.png'}]\"\n",
        "d = d.replace(\"'\", '\"')"
      ],
      "metadata": {
        "id": "Tp31RBXlriKW"
      },
      "execution_count": 182,
      "outputs": []
    },
    {
      "cell_type": "code",
      "source": [
        "d"
      ],
      "metadata": {
        "colab": {
          "base_uri": "https://localhost:8080/",
          "height": 122
        },
        "id": "kydiIz6Orp8g",
        "outputId": "26776f52-45db-4634-94b6-6e7fb5a7f2f3"
      },
      "execution_count": 183,
      "outputs": [
        {
          "output_type": "execute_result",
          "data": {
            "text/plain": [
              "'[{\"category\": \"ReligiousPlace\", \"text\": \"1 Religious Place\", \"className\": \"rlgs\", \"icon\": \"https://static.99acres.com/universalapp/img/rlgs.png\"}, {\"category\": \"ATM\", \"text\": \"2 ATMs\", \"className\": \"atm\", \"icon\": \"https://static.99acres.com/universalapp/img/atm_blue.png\"}, {\"category\": \"Hospital\", \"text\": \"20 Hospitals\", \"className\": \"hsptl\", \"icon\": \"https://static.99acres.com/universalapp/img/hsptl.png\"}, {\"category\": \"Attraction\", \"text\": \"1 Attraction\", \"className\": \"cultrl\", \"icon\": \"https://static.99acres.com/universalapp/img/cultrl.png\"}, {\"category\": \"Pharmacy\", \"text\": \"3 Pharmacys\", \"className\": \"phmcy\", \"icon\": \"https://static.99acres.com/universalapp/img/phmcy.png\"}, {\"category\": \"OfficeComplex\", \"text\": \"2 Office Complexes\", \"className\": \"ofce\", \"icon\": \"https://static.99acres.com/universalapp/img/ofce.png\"}]'"
            ],
            "application/vnd.google.colaboratory.intrinsic+json": {
              "type": "string"
            }
          },
          "metadata": {},
          "execution_count": 183
        }
      ]
    },
    {
      "cell_type": "code",
      "source": [
        "get_landmark_details(d)"
      ],
      "metadata": {
        "colab": {
          "base_uri": "https://localhost:8080/",
          "height": 35
        },
        "id": "y9A8nTSeoPki",
        "outputId": "96845dfa-751d-473d-eeb4-2ee0180d9f1c"
      },
      "execution_count": 184,
      "outputs": [
        {
          "output_type": "execute_result",
          "data": {
            "text/plain": [
              "'1 Religious Place, 2 ATMs, 20 Hospitals, 1 Attraction, 3 Pharmacys, 2 Office Complexes'"
            ],
            "application/vnd.google.colaboratory.intrinsic+json": {
              "type": "string"
            }
          },
          "metadata": {},
          "execution_count": 184
        }
      ]
    },
    {
      "cell_type": "code",
      "source": [
        "pd.set_option('display.max_colwidth', None)"
      ],
      "metadata": {
        "id": "WB1dQhhSlxQr"
      },
      "execution_count": 161,
      "outputs": []
    },
    {
      "cell_type": "code",
      "source": [
        "res_apart['landmark_details'].str.contains('0').sum()"
      ],
      "metadata": {
        "colab": {
          "base_uri": "https://localhost:8080/"
        },
        "id": "IJoNR0fQsihl",
        "outputId": "1e6be03f-9a38-491e-eb70-257d45b3634f"
      },
      "execution_count": 197,
      "outputs": [
        {
          "output_type": "execute_result",
          "data": {
            "text/plain": [
              "1418"
            ]
          },
          "metadata": {},
          "execution_count": 197
        }
      ]
    },
    {
      "cell_type": "code",
      "source": [
        "res_apart.info()"
      ],
      "metadata": {
        "colab": {
          "base_uri": "https://localhost:8080/"
        },
        "id": "iCj9BBM7eMnI",
        "outputId": "91f764ce-7d70-48d6-afee-b8bb86b115a7"
      },
      "execution_count": 191,
      "outputs": [
        {
          "output_type": "stream",
          "name": "stdout",
          "text": [
            "<class 'pandas.core.frame.DataFrame'>\n",
            "RangeIndex: 28550 entries, 0 to 28549\n",
            "Data columns (total 26 columns):\n",
            " #   Column                      Non-Null Count  Dtype  \n",
            "---  ------                      --------------  -----  \n",
            " 0   PREFERENCE                  28550 non-null  object \n",
            " 1   DESCRIPTION                 28550 non-null  object \n",
            " 2   CITY                        28550 non-null  object \n",
            " 3   TRANSACT_TYPE               23055 non-null  float64\n",
            " 4   OWNTYPE                     28550 non-null  int64  \n",
            " 5   BEDROOM_NUM                 28533 non-null  float64\n",
            " 6   BALCONY_NUM                 22280 non-null  float64\n",
            " 7   FURNISH                     28550 non-null  int64  \n",
            " 8   FACING                      28550 non-null  int64  \n",
            " 9   AGE                         28550 non-null  int64  \n",
            " 10  FLOOR_NUM                   28550 non-null  float64\n",
            " 11  TOTAL_FLOOR                 28550 non-null  float64\n",
            " 12  FEATURES                    28550 non-null  object \n",
            " 13  PROP_NAME                   28550 non-null  object \n",
            " 14  PRICE_SQFT                  28550 non-null  float64\n",
            " 15  AMENITIES                   21774 non-null  object \n",
            " 16  area_in_sqft                28550 non-null  int64  \n",
            " 17  PRICE                       28550 non-null  object \n",
            " 18  PROP_HEADING                28550 non-null  object \n",
            " 19  TOTAL_LANDMARK_COUNT        27914 non-null  float64\n",
            " 20  FORMATTED_LANDMARK_DETAILS  27914 non-null  object \n",
            " 21  location                    28550 non-null  object \n",
            " 22  LATITUDE                    28550 non-null  object \n",
            " 23  LONGITUDE                   28550 non-null  object \n",
            " 24  locality                    28550 non-null  object \n",
            " 25  landmark_details            28550 non-null  object \n",
            "dtypes: float64(7), int64(5), object(14)\n",
            "memory usage: 5.7+ MB\n"
          ]
        }
      ]
    },
    {
      "cell_type": "code",
      "source": [
        "res_apart.to_csv('/content/drive/MyDrive/pro/res_apart.csv',index=False)"
      ],
      "metadata": {
        "id": "jL91_GaEnVba"
      },
      "execution_count": 192,
      "outputs": []
    }
  ]
}